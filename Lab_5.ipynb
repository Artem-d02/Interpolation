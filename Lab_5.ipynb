{
 "cells": [
  {
   "cell_type": "code",
   "execution_count": 65,
   "id": "aacdb8a3",
   "metadata": {},
   "outputs": [],
   "source": [
    "import numpy as np\n",
    "import matplotlib.pyplot as plt\n",
    "from scipy.optimize import curve_fit\n",
    "import math"
   ]
  },
  {
   "cell_type": "code",
   "execution_count": 66,
   "id": "6b98bcea",
   "metadata": {},
   "outputs": [],
   "source": [
    "def divided_difference(step, y1, y2):\n",
    "    return (y2 - y1)/step"
   ]
  },
  {
   "cell_type": "code",
   "execution_count": 67,
   "id": "68b02a0e",
   "metadata": {},
   "outputs": [],
   "source": [
    "def calculate_population(year):\n",
    "    this_population = 0\n",
    "    for i in range(Newton_koefs.size):\n",
    "        smth_in_brackets = Newton_koefs[i]\n",
    "        for j in range(i):\n",
    "            smth_in_brackets *= (year - (start_year + step_in_years * j))\n",
    "        this_population += smth_in_brackets\n",
    "    return this_population"
   ]
  },
  {
   "cell_type": "code",
   "execution_count": 68,
   "id": "38267373",
   "metadata": {},
   "outputs": [],
   "source": [
    "population = np.array([92228496, 106021537, 123202624, 132164569, 151325798, 179323175, 203211926, 226545805, 248709873, 281421906])\n",
    "step_in_years = 10\n",
    "start_year = 1910\n",
    "end_year = 2000"
   ]
  },
  {
   "cell_type": "code",
   "execution_count": 69,
   "id": "099f96b5",
   "metadata": {},
   "outputs": [],
   "source": [
    "Newton_koefs = np.zeros(population.size)\n",
    "\n",
    "this_iter = population.copy();\n",
    "for i in range(population.size):\n",
    "    Newton_koefs[i] = this_iter[0]\n",
    "    next_iter = np.zeros(this_iter.size - 1)\n",
    "    for j in range(next_iter.size):\n",
    "        next_iter[j] = divided_difference(step_in_years * (i + 1), this_iter[j], this_iter[j + 1])\n",
    "    this_iter = next_iter.copy()"
   ]
  },
  {
   "cell_type": "code",
   "execution_count": 70,
   "id": "81d89244",
   "metadata": {},
   "outputs": [
    {
     "name": "stdout",
     "output_type": "stream",
     "text": [
      "[ 9.22284960e+07  1.37930410e+06  1.69402300e+04 -1.93453133e+03\n",
      "  1.25106725e+02 -4.15059800e+00  8.05654167e-02 -7.56485278e-04\n",
      " -7.56467535e-06  5.09932804e-07]\n"
     ]
    }
   ],
   "source": [
    "print(Newton_koefs)"
   ]
  },
  {
   "cell_type": "code",
   "execution_count": 71,
   "id": "00432807",
   "metadata": {},
   "outputs": [
    {
     "data": {
      "image/png": "[encoded data removed]",
      "text/plain": [
       "<Figure size 432x288 with 1 Axes>"
      ]
     },
     "metadata": {
      "needs_background": "light"
     },
     "output_type": "display_data"
    }
   ],
   "source": [
    "years_for_graphic = np.arange(1910, 2010, 1)\n",
    "population_for_graphic = calculate_population(years_for_graphic)\n",
    "\n",
    "plt.plot(years_for_graphic, population_for_graphic)\n",
    "plt.stem(np.arange(1910, 2001, 10), population)\n",
    "plt.grid()\n",
    "plt.title(\"USA Population\")\n",
    "plt.ylabel(\"Population\")\n",
    "plt.xlabel(\"Year\")\n",
    "plt.show()"
   ]
  },
  {
   "cell_type": "markdown",
   "id": "c02d29cc",
   "metadata": {},
   "source": [
    "Модель не подходит для экстраполяции за пределы интервала данных точек"
   ]
  },
  {
   "cell_type": "markdown",
   "id": "6127003e",
   "metadata": {},
   "source": [
    "Для кубического сплайна (краевые условия s\"(1910) = 0 и s\"(2000) = 0) составим 3-диагональную матрицу A (на деле матрица A умножена на 6 для удобства) (см. семинар)"
   ]
  },
  {
   "cell_type": "code",
   "execution_count": 72,
   "id": "8a243f7f",
   "metadata": {},
   "outputs": [
    {
     "name": "stdout",
     "output_type": "stream",
     "text": [
      "Матрица A (умноженная на 6 для удобства):\n",
      " [[ 1.  0.  0.  0.  0.  0.  0.  0.  0.  0.]\n",
      " [10. 40. 10.  0.  0.  0.  0.  0.  0.  0.]\n",
      " [ 0. 10. 40. 10.  0.  0.  0.  0.  0.  0.]\n",
      " [ 0.  0. 10. 40. 10.  0.  0.  0.  0.  0.]\n",
      " [ 0.  0.  0. 10. 40. 10.  0.  0.  0.  0.]\n",
      " [ 0.  0.  0.  0. 10. 40. 10.  0.  0.  0.]\n",
      " [ 0.  0.  0.  0.  0. 10. 40. 10.  0.  0.]\n",
      " [ 0.  0.  0.  0.  0.  0. 10. 40. 10.  0.]\n",
      " [ 0.  0.  0.  0.  0.  0.  0. 10. 40. 10.]\n",
      " [ 0.  0.  0.  0.  0.  0.  0.  0.  0.  1.]]\n"
     ]
    }
   ],
   "source": [
    "m_size = population.size\n",
    "A = np.zeros(shape = [m_size, m_size])\n",
    "f = np.zeros(m_size)\n",
    "\n",
    "for i in range(1, f.size - 1):\n",
    "    f[i] = 6 * (population[i - 1] - 2 * population[i] + population[i + 1]) / step_in_years\n",
    "    \n",
    "A[0, 0] = 1\n",
    "A[-1, -1] = 1\n",
    "for i in range(1, m_size - 1):\n",
    "    A[i, i - 1] = step_in_years\n",
    "    A[i, i] = 4 * step_in_years\n",
    "    A[i, i + 1] = step_in_years\n",
    "\n",
    "print(\"Матрица A (умноженная на 6 для удобства):\\n\", A)"
   ]
  },
  {
   "cell_type": "markdown",
   "id": "acb6ed08",
   "metadata": {},
   "source": [
    "Для нахождения c_i из системы Ac = f воспользуемся методом прогонки (т.к. матрица 3-диагональная):"
   ]
  },
  {
   "cell_type": "code",
   "execution_count": 73,
   "id": "4436ab78",
   "metadata": {},
   "outputs": [],
   "source": [
    "def run_through(A, f):\n",
    "    n = len(A)\n",
    "    x = [0 for k in range(0, n)] # обнуление вектора решений\n",
    "    print('Размерность матрицы: ',n,'x',n)\n",
    "    \n",
    "    # Прямой ход\n",
    "    v = [0 for k in range(0, n)]\n",
    "    u = [0 for k in range(0, n)]\n",
    "    # для первой 0-й строки\n",
    "    v[0] = A[0][1] / (-A[0][0]) \n",
    "    u[0] = ( - f[0]) / (-A[0][0]) \n",
    "    for i in range(1, n - 1): # заполняем за исключением 1-й и (n-1)-й строк матрицы\n",
    "        v[i] = A[i][i+1] / ( -A[i][i] - A[i][i-1]*v[i-1] )\n",
    "        u[i] = ( A[i][i-1]*u[i-1] - f[i] ) / ( -A[i][i] - A[i][i-1]*v[i-1] )\n",
    "    # для последней (n-1)-й строки\n",
    "    v[n-1] = 0\n",
    "    u[n-1] = (A[n-1][n-2]*u[n-2] - f[n-1]) / (-A[n-1][n-1] - A[n-1][n-2]*v[n-2])\n",
    "    \n",
    "    # Обратный ход\n",
    "    x[n-1] = u[n-1]\n",
    "    for i in range(n-1, 0, -1):\n",
    "        x[i-1] = v[i-1] * x[i] + u[i-1]\n",
    "        \n",
    "    return x    "
   ]
  },
  {
   "cell_type": "markdown",
   "id": "06cda321",
   "metadata": {},
   "source": [
    "Найдём коэффициенты в сплайне:"
   ]
  },
  {
   "cell_type": "code",
   "execution_count": 74,
   "id": "80347c98",
   "metadata": {},
   "outputs": [
    {
     "name": "stdout",
     "output_type": "stream",
     "text": [
      "Размерность матрицы:  10 x 10\n",
      "c =  [      0.           98565.08103441 -190977.56413762  172196.65551609\n",
      "  114147.98207325  -98619.7038091    33813.27316315  -69925.70884351\n",
      "  175700.90221088      -0.        ]\n"
     ]
    }
   ],
   "source": [
    "c = np.array(run_through(A, f))\n",
    "print(\"c = \", c)\n",
    "\n",
    "a = np.zeros(m_size)\n",
    "b = np.zeros(m_size)\n",
    "d = np.zeros(m_size)\n",
    "\n",
    "a[0] = population[0]\n",
    "b[0] = population[0] / step_in_years + c[0] / 3 * step_in_years\n",
    "d[0] = c[0] / step_in_years\n",
    "for i in range(1, m_size):\n",
    "    a[i] = population[i]\n",
    "    b[i] = (population[i] - population[i - 1]) / step_in_years + (2 * c[i] + c[i - 1]) / 6 * step_in_years\n",
    "    d[i] = (c[i] - c[i - 1]) / step_in_years"
   ]
  },
  {
   "cell_type": "markdown",
   "id": "3acb205b",
   "metadata": {},
   "source": [
    "Функция для вычисления значения сплайна в точке:"
   ]
  },
  {
   "cell_type": "code",
   "execution_count": 75,
   "id": "5bf99ad0",
   "metadata": {},
   "outputs": [],
   "source": [
    "def population_by_spline(year):\n",
    "    i = math.floor((year - (start_year - step_in_years)) / step_in_years)\n",
    "    year_i = start_year + i * step_in_years\n",
    "    return a[i] + b[i] * (year - year_i) + c[i] / 2 * (year - year_i) ** 2 + d[i] / 6 * (year - year_i) ** 3"
   ]
  },
  {
   "cell_type": "code",
   "execution_count": 76,
   "id": "4267d691",
   "metadata": {
    "scrolled": true
   },
   "outputs": [
    {
     "data": {
      "image/png": "[encoded data removed]",
      "text/plain": [
       "<Figure size 432x288 with 1 Axes>"
      ]
     },
     "metadata": {
      "needs_background": "light"
     },
     "output_type": "display_data"
    }
   ],
   "source": [
    "years_for_graphic = np.arange(start = 1910, stop = 2000, step = 1)\n",
    "population_for_graphic = np.zeros(years_for_graphic.size)\n",
    "for i in range(years_for_graphic.size):\n",
    "    population_for_graphic[i] = population_by_spline(years_for_graphic[i])\n",
    "\n",
    "plt.plot(years_for_graphic, population_for_graphic)\n",
    "plt.stem(np.arange(start = 1910, stop = 2001, step = 10), population)\n",
    "plt.grid()\n",
    "plt.title(\"USA Population\")\n",
    "plt.ylabel(\"Population\")\n",
    "plt.xlabel(\"Year\")\n",
    "plt.show()"
   ]
  },
  {
   "cell_type": "markdown",
   "id": "d497c564",
   "metadata": {},
   "source": [
    "Для экстраполяции добавим ещё одну точку и граничные условия: S'_n-1(2000) = S'_n(2000), s\"(2010) = 0"
   ]
  },
  {
   "cell_type": "code",
   "execution_count": 81,
   "id": "65dfa3c1",
   "metadata": {},
   "outputs": [],
   "source": [
    "a_new = np.zeros(a.size + 2)\n",
    "b_new = np.zeros(b.size + 2)\n",
    "c_new = np.zeros(c.size + 2)\n",
    "d_new = np.zeros(d.size + 2)\n",
    "n = a.size\n",
    "for i in range(n):\n",
    "    a_new[i] = a[i]\n",
    "    b_new[i] = b[i]\n",
    "    c_new[i] = c[i]\n",
    "    d_new[i] = d[i]\n",
    "# Повторяем формулы для следующей вершины\n",
    "d_new[n] = d_new[n - 1]\n",
    "c_new[n] = c_new[n - 1] + d_new[n] * step_in_years\n",
    "b_new[n] = b_new[n - 1] + c_new[n] * step_in_years + d_new[n - 1] * step_in_years / 2\n",
    "a_new[n] = a_new[n - 1] + b_new[n] * step_in_years + c_new[n - 1] * step_in_years / 2 + d_new[n - 1] * step_in_years / 6\n",
    "n += 1\n",
    "d_new[n] = d_new[n - 1]\n",
    "c_new[n] = c_new[n - 1] + d_new[n] * step_in_years\n",
    "b_new[n] = b_new[n - 1] + c_new[n] * step_in_years + d_new[n - 1] * step_in_years / 2\n",
    "a_new[n] = a_new[n - 1] + b_new[n] * step_in_years + c_new[n - 1] * step_in_years / 2 + d_new[n - 1] * step_in_years / 6\n",
    "# Для удобства возвращаемся к старым переменным\n",
    "a = a_new\n",
    "b = b_new\n",
    "c = c_new\n",
    "d = d_new"
   ]
  },
  {
   "cell_type": "code",
   "execution_count": 82,
   "id": "4fa330bb",
   "metadata": {},
   "outputs": [
    {
     "data": {
      "image/png": "[encoded data removed]",
      "text/plain": [
       "<Figure size 432x288 with 1 Axes>"
      ]
     },
     "metadata": {
      "needs_background": "light"
     },
     "output_type": "display_data"
    }
   ],
   "source": [
    "years_for_graphic = np.arange(start = 1910, stop = 2010, step = 1)\n",
    "population_for_graphic = np.zeros(years_for_graphic.size)\n",
    "for i in range(years_for_graphic.size):\n",
    "    population_for_graphic[i] = population_by_spline(years_for_graphic[i])\n",
    "\n",
    "plt.plot(years_for_graphic, population_for_graphic)\n",
    "plt.stem(np.arange(start = 1910, stop = 2001, step = 10), population)\n",
    "plt.grid()\n",
    "plt.title(\"USA Population\")\n",
    "plt.ylabel(\"Population\")\n",
    "plt.xlabel(\"Year\")\n",
    "plt.show()"
   ]
  },
  {
   "cell_type": "markdown",
   "id": "67c50084",
   "metadata": {},
   "source": [
    "По экстраполированным данным численность населения в 2010 году:"
   ]
  },
  {
   "cell_type": "code",
   "execution_count": 85,
   "id": "314e8f20",
   "metadata": {},
   "outputs": [
    {
     "name": "stdout",
     "output_type": "stream",
     "text": [
      "296780308\n"
     ]
    }
   ],
   "source": [
    "print(math.floor(population_for_graphic[-1]))"
   ]
  },
  {
   "cell_type": "markdown",
   "id": "28088c3c",
   "metadata": {},
   "source": [
    "Численность согласно табличным данным:"
   ]
  },
  {
   "cell_type": "markdown",
   "id": "850e6c7b",
   "metadata": {},
   "source": [
    "308745538"
   ]
  },
  {
   "cell_type": "markdown",
   "id": "43bc49d5",
   "metadata": {},
   "source": [
    "Оценка с помощью экстраполяции близка к действительности"
   ]
  }
 ],
 "metadata": {
  "kernelspec": {
   "display_name": "Python 3",
   "language": "python",
   "name": "python3"
  },
  "language_info": {
   "codemirror_mode": {
    "name": "ipython",
    "version": 3
   },
   "file_extension": ".py",
   "mimetype": "text/x-python",
   "name": "python",
   "nbconvert_exporter": "python",
   "pygments_lexer": "ipython3",
   "version": "3.8.8"
  }
 },
 "nbformat": 4,
 "nbformat_minor": 5
}
